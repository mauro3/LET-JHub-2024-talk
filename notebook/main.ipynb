{
 "cells": [
  {
   "cell_type": "markdown",
   "metadata": {
    "name": "A slide ",
    "slideshow": {
     "slide_type": "slide"
    }
   },
   "source": [
    "# Juptyer notebooks, slides and website all at once\n",
    "\n",
    "_LET JHub user meeting 01-2024_ ; _Mauro Werder_\n",
    "\n",
    "I will go over\n",
    "- how to generate Jupyter notebooks from scripts for:\n",
    "  - notebooks\n",
    "  - assignments and solutions\n",
    "  - web-pages\n",
    "- to show you how we use (interactive) computing exercises in our lectures.\n",
    "\n",
    "This is in Julia but a similar setup should work for Python, R, ..."
   ]
  },
  {
   "cell_type": "markdown",
   "metadata": {
    "name": "A slide ",
    "slideshow": {
     "slide_type": "slide"
    }
   },
   "source": [
    "# Why not just straight notebooks?\n",
    "\n",
    "- notebooks are great for teaching but a bit less great for maintaining\n",
    "- clunky git integration\n",
    "- awkward editing\n",
    "- hard to keep lectures, assignments and solutions in sync\n",
    "\n",
    "--> use one script to rule them all: i.e. generate all notebooks and other\n",
    "    outputs from one, text-based script"
   ]
  },
  {
   "cell_type": "markdown",
   "metadata": {
    "name": "A slide ",
    "slideshow": {
     "slide_type": "slide"
    }
   },
   "source": [
    "# Example: a quick intro to programming in Julia"
   ]
  },
  {
   "cell_type": "markdown",
   "metadata": {
    "name": "A slide ",
    "slideshow": {
     "slide_type": "fragment"
    }
   },
   "source": [
    "### Basic Julia datatypes\n",
    "- numbers (Ints, Floats, Complex, etc.)\n",
    "- arrays\n",
    "- ..."
   ]
  },
  {
   "cell_type": "code",
   "execution_count": null,
   "metadata": {},
   "outputs": [],
   "source": [
    "1     # 64 bit integer (or 32 bit if on a 32-bit OS)\n",
    "1.5   # Float64"
   ]
  },
  {
   "cell_type": "code",
   "execution_count": null,
   "metadata": {},
   "outputs": [],
   "source": [
    "typeof(1.5)"
   ]
  },
  {
   "cell_type": "code",
   "execution_count": null,
   "metadata": {},
   "outputs": [],
   "source": [
    "[1, 2, 3,] # array of eltype Int"
   ]
  },
  {
   "cell_type": "markdown",
   "metadata": {
    "name": "A slide ",
    "slideshow": {
     "slide_type": "slide"
    }
   },
   "source": [
    "# Example: a quick intro to programming in Julia\n",
    "### Array exercises"
   ]
  },
  {
   "cell_type": "markdown",
   "metadata": {},
   "source": [
    "Task: assign two vectors to `a`, and `b` and the concatenate them using `;`:"
   ]
  },
  {
   "cell_type": "code",
   "execution_count": null,
   "metadata": {},
   "outputs": [],
   "source": [
    "a = [2, 3]\n",
    "b = ...\n",
    "[ ; ]"
   ]
  },
  {
   "cell_type": "markdown",
   "metadata": {},
   "source": [
    "Add new elements to the end of Vector `b` (hint look up the documentation for `push!`)"
   ]
  },
  {
   "cell_type": "code",
   "execution_count": null,
   "metadata": {},
   "outputs": [],
   "source": [
    "#"
   ]
  },
  {
   "cell_type": "markdown",
   "metadata": {
    "name": "A slide ",
    "slideshow": {
     "slide_type": "slide"
    }
   },
   "source": [
    "# What does the script look like?"
   ]
  },
  {
   "cell_type": "markdown",
   "metadata": {
    "name": "A slide ",
    "slideshow": {
     "slide_type": "fragment"
    }
   },
   "source": [
    "See [main.jl](https://github.com/mauro3/LET-JHub-2024-talk/blob/master/scripts/main.jl) on Github:\n",
    "`````julia\n",
    "# Example: a quick intro to programming in Julia\n",
    "### Array exercises\n",
    "\n",
    "# Task: assign two vectors to `a`, and `b` and the concatenate them using `;`:\n",
    "\n",
    "a = [2, 3]\n",
    "##hint b = ...\n",
    "##hint [ ; ]\n",
    "\n",
    "# Add new elements to the end of Vector `b` (hint look up the documentation for `push!`)\n",
    "\n",
    "##hint ##\n",
    "`````"
   ]
  },
  {
   "cell_type": "markdown",
   "metadata": {
    "name": "A slide ",
    "slideshow": {
     "slide_type": "slide"
    }
   },
   "source": [
    "# Tech stack\n",
    "\n",
    "- Julia\n",
    "- Jupyter\n",
    "- Slide show: [Rise](https://github.com/damianavila/RISE) plugin for Jupyter\n",
    "- [Literate.jl](https://github.com/fredrikekre/Literate.jl)\n",
    "\n",
    "Output of Literate.jl: pure Julia, markdown, Jupyter notebooks"
   ]
  },
  {
   "cell_type": "markdown",
   "metadata": {
    "name": "A slide ",
    "slideshow": {
     "slide_type": "fragment"
    }
   },
   "source": [
    "--> should be possible in other programming languages too"
   ]
  },
  {
   "cell_type": "markdown",
   "metadata": {
    "name": "A slide ",
    "slideshow": {
     "slide_type": "slide"
    }
   },
   "source": [
    "# How we use it\n",
    "\n",
    "- in-class notebooks\n",
    "- slides for teaching\n",
    "- assignments and their solutions\n",
    "- website of course [Solving PDEs on GPUs](https://pde-on-gpu.vaw.ethz.ch/)"
   ]
  },
  {
   "cell_type": "markdown",
   "metadata": {
    "name": "A slide ",
    "slideshow": {
     "slide_type": "fragment"
    }
   },
   "source": [
    "# Concluding\n",
    "\n",
    "- all the content (slides, exercise, exercise solution) you saw today is generated from one script\n",
    "  - on [https://github.com/mauro3/LET-JHub-2024-talk](https://github.com/mauro3/LET-JHub-2024-talk)\n",
    "  - this keeps things simple when doing and updating exercises\n",
    "  - simple system of hash-tags within script to generate different content\n",
    "  - how the PDE-on-GPU lecture operates, also its website generated like this\n",
    "  - how parts of Physics of Glaciers lecture operates\n",
    "- should be possible with other programming languages and a literate-type programming package"
   ]
  }
 ],
 "metadata": {
  "kernelspec": {
   "display_name": "Julia 1.9.4",
   "language": "julia",
   "name": "julia-1.9"
  },
  "language_info": {
   "file_extension": ".jl",
   "mimetype": "application/julia",
   "name": "julia",
   "version": "1.9.4"
  }
 },
 "nbformat": 4,
 "nbformat_minor": 3
}
